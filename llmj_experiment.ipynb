{
 "cells": [
  {
   "cell_type": "code",
   "execution_count": 10,
   "id": "915a4ff2",
   "metadata": {},
   "outputs": [],
   "source": [
    "from datasets import load_dataset \n",
    "\n",
    "ds = load_dataset(\"lmsys/mt_bench_human_judgments\")\n",
    "human_split = ds[\"human\"]\n",
    "gpt4_split = ds[\"gpt4_pair\"]"
   ]
  },
  {
   "cell_type": "code",
   "execution_count": 7,
   "id": "979f7967",
   "metadata": {},
   "outputs": [
    {
     "name": "stdout",
     "output_type": "stream",
     "text": [
      "['question_id', 'model_a', 'model_b', 'winner', 'judge', 'conversation_a', 'conversation_b', 'turn']\n"
     ]
    }
   ],
   "source": [
    "print(human_split.column_names)"
   ]
  },
  {
   "cell_type": "code",
   "execution_count": null,
   "id": "914d26c4",
   "metadata": {},
   "outputs": [],
   "source": [
    "import numpy as np\n",
    "import pandas as pd\n",
    "from collections import defaultdict\n",
    "\n",
    "\n",
    "def canonical_judge(j):\n",
    "    \"\"\"Map raw judge values to standard tokens.\"\"\"\n",
    "    if isinstance(j, list) and j and j[0] == \"gpt-4\":\n",
    "        return \"gpt4_pair\"\n",
    "    if isinstance(j, str) and j.startswith((\"expert\", \"author\")):\n",
    "        return \"human\"\n",
    "    return j\n",
    "\n",
    "def fold_tie(v):\n",
    "    \"\"\"Return the canonical string 'tie' for any tie-like label.\"\"\"\n",
    "    return \"tie\" if \"tie\" in v else v\n",
    "\n",
    "def build_vote_bag(rows):\n",
    "    \"\"\"Build a bag of votes from the rows of the dataset.\"\"\"\n",
    "    bag = [defaultdict(dict), defaultdict(dict)]\n",
    "\n",
    "    for row in rows:\n",
    "        turn = row[\"turn\"] - 1 # change from 1-indexed to 0-indexed\n",
    "\n",
    "        if row[\"model_a\"] < row[\"model_b\"]:\n",
    "            key = (row[\"question_id\"], row[\"model_a\"], row[\"model_b\"])\n",
    "            label = row[\"winner\"]\n",
    "\n",
    "        else:\n",
    "            key = (row[\"question_id\"], row[\"model_b\"], row[\"model_a\"])\n",
    "            label = {\"model_a\" : \"model_b\", \"model_b\" : \"model_a\"}.get(row[\"winner\"], row[\"winner\"])\n",
    "\n",
    "        judge = canonical_judge(row[\"judge\"])\n",
    "\n",
    "        bag[turn].setdefault(key, {}).setdefault(judge, []).append(label)\n",
    "\n",
    "    return bag\n",
    "\n",
    "\n",
    "def agree_turn(bag_turn, judgeA, judgeB, drop_ties=True):\n",
    "    \"\"\"Return the agreement and total votes for a given turn.\"\"\"\n",
    "    agree = tot = 0\n",
    "    for votes in bag_turn.values():\n",
    "        if judgeA not in votes or judgeB not in votes:\n",
    "            continue # we need both the human and the gpt4-pair judges to have voted, for us to be able to compute agreement\n",
    "        vA = fold_tie(votes[judgeA][0])\n",
    "        if drop_ties and vA == \"tie\":\n",
    "            continue\n",
    "        for vB in votes[judgeB]:\n",
    "            vB = fold_tie(vB)\n",
    "            if drop_ties and vB == \"tie\":\n",
    "                continue\n",
    "            tot += 1\n",
    "            agree += (vA == vB) # or use an if statement)\n",
    "    \n",
    "    return agree, tot\n",
    "\n"
   ]
  },
  {
   "cell_type": "code",
   "execution_count": 24,
   "id": "306a4781",
   "metadata": {},
   "outputs": [
    {
     "name": "stdout",
     "output_type": "stream",
     "text": [
      "Agreement (Tie: True, turn-1): 0/0 = 0.00\n",
      "Agreement (Tie: False, turn-1): 0/0 = 0.00\n",
      "Agreement (Tie: True, turn-2): 0/0 = 0.00\n",
      "Agreement (Tie: False, turn-2): 0/0 = 0.00\n"
     ]
    }
   ],
   "source": [
    "raw = load_dataset(\"lmsys/mt_bench_human_judgments\")\n",
    "bag = build_vote_bag(list(raw[\"human\"]) + list(raw[\"gpt4_pair\"]))\n",
    "\n",
    "for turn in [0, 1]:\n",
    "    for tie in [False, True]:\n",
    "        agree, tot = agree_turn(bag[turn], \"gpt4-pair\", \"human\", drop_ties=tie)\n",
    "        print(f\"Agreement (Tie: {not tie}, turn-{turn+1}): {agree}/{tot} = {agree/tot if tot > 0 else 0:.2f}\")"
   ]
  }
 ],
 "metadata": {
  "kernelspec": {
   "display_name": ".venv",
   "language": "python",
   "name": "python3"
  },
  "language_info": {
   "codemirror_mode": {
    "name": "ipython",
    "version": 3
   },
   "file_extension": ".py",
   "mimetype": "text/x-python",
   "name": "python",
   "nbconvert_exporter": "python",
   "pygments_lexer": "ipython3",
   "version": "3.10.0"
  }
 },
 "nbformat": 4,
 "nbformat_minor": 5
}
